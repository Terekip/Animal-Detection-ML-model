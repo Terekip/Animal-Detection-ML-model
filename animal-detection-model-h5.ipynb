{
 "cells": [
  {
   "cell_type": "code",
   "execution_count": 1,
   "id": "bd9c568b",
   "metadata": {
    "execution": {
     "iopub.execute_input": "2023-04-22T12:46:02.154419Z",
     "iopub.status.busy": "2023-04-22T12:46:02.153281Z",
     "iopub.status.idle": "2023-04-22T12:46:10.684096Z",
     "shell.execute_reply": "2023-04-22T12:46:10.682898Z"
    },
    "papermill": {
     "duration": 8.539733,
     "end_time": "2023-04-22T12:46:10.686916",
     "exception": false,
     "start_time": "2023-04-22T12:46:02.147183",
     "status": "completed"
    },
    "tags": []
   },
   "outputs": [],
   "source": [
    "import tensorflow as tf\n",
    "import numpy as np\n",
    "import os\n",
    "import cv2"
   ]
  },
  {
   "cell_type": "code",
   "execution_count": 2,
   "id": "dedbaab2",
   "metadata": {
    "execution": {
     "iopub.execute_input": "2023-04-22T12:46:10.695593Z",
     "iopub.status.busy": "2023-04-22T12:46:10.694916Z",
     "iopub.status.idle": "2023-04-22T12:46:10.700081Z",
     "shell.execute_reply": "2023-04-22T12:46:10.698948Z"
    },
    "papermill": {
     "duration": 0.012039,
     "end_time": "2023-04-22T12:46:10.702719",
     "exception": false,
     "start_time": "2023-04-22T12:46:10.690680",
     "status": "completed"
    },
    "tags": []
   },
   "outputs": [],
   "source": [
    "data_path = '/kaggle/input/animals-detection-images-dataset'\n"
   ]
  },
  {
   "cell_type": "code",
   "execution_count": 3,
   "id": "c0208731",
   "metadata": {
    "execution": {
     "iopub.execute_input": "2023-04-22T12:46:10.711158Z",
     "iopub.status.busy": "2023-04-22T12:46:10.710259Z",
     "iopub.status.idle": "2023-04-22T12:46:21.173739Z",
     "shell.execute_reply": "2023-04-22T12:46:21.172167Z"
    },
    "papermill": {
     "duration": 10.470331,
     "end_time": "2023-04-22T12:46:21.176256",
     "exception": false,
     "start_time": "2023-04-22T12:46:10.705925",
     "status": "completed"
    },
    "tags": []
   },
   "outputs": [
    {
     "name": "stdout",
     "output_type": "stream",
     "text": [
      "{'Eagle', 'Camel', 'Turkey', 'Ostrich', 'Woodpecker', 'Cattle', 'Spider', 'Hippopotamus', 'Swan', 'Parrot', 'Otter', 'Moths and butterflies', 'Hamster', 'Shrimp', 'Tortoise', 'Frog', 'Squid', 'Worm', 'Kangaroo', 'Cheetah', 'Goat', 'Fox', 'Giraffe', 'Turtle', 'Fish', 'Deer', 'Goose', 'Ladybug', 'Tiger', 'Crocodile', 'Hedgehog', 'Polar bear', 'Sheep', 'Jellyfish', 'Lynx', 'Lion', 'Horse', 'Rabbit', 'Mule', 'Tick', 'Owl', 'Magpie', 'Scorpion', 'Butterfly', 'Chicken', 'Whale', 'Duck', 'Zebra', 'Jaguar', 'Harbor seal', 'Centipede', 'Caterpillar', 'Koala', 'Lizard', 'Sea turtle', 'Elephant', 'Shark', 'Raven', 'Sparrow', 'Brown bear', 'Goldfish', 'Red panda', 'Monkey', 'Canary', 'Snail', 'Starfish', 'Sea lion', 'Raccoon', 'Rhinoceros', 'Snake', 'Pig', 'Penguin', 'Squirrel', 'Panda', 'Crab', 'Bull', 'Leopard', 'Mouse', 'Seahorse', 'Bear'}\n"
     ]
    }
   ],
   "source": [
    "animals = set()\n",
    "for root, dirs, files in os.walk(data_path):\n",
    "    for file in files:\n",
    "        if file.endswith('.jpg'):\n",
    "            animal = root.split('/')[-1]\n",
    "            animals.add(animal)\n",
    "\n",
    "print(animals)"
   ]
  },
  {
   "cell_type": "code",
   "execution_count": 4,
   "id": "864962db",
   "metadata": {
    "execution": {
     "iopub.execute_input": "2023-04-22T12:46:21.184906Z",
     "iopub.status.busy": "2023-04-22T12:46:21.184588Z",
     "iopub.status.idle": "2023-04-22T12:46:21.191809Z",
     "shell.execute_reply": "2023-04-22T12:46:21.190682Z"
    },
    "papermill": {
     "duration": 0.014023,
     "end_time": "2023-04-22T12:46:21.193951",
     "exception": false,
     "start_time": "2023-04-22T12:46:21.179928",
     "status": "completed"
    },
    "tags": []
   },
   "outputs": [],
   "source": [
    "class_names=['Kangaroo', 'Canary', 'Elephant', 'Otter', 'Pig', 'Lizard', 'Rhinoceros', 'Starfish', 'Rabbit', 'Lion', 'Chicken', 'Squid', 'Tiger', 'Mule', 'Cattle', 'Crab', 'Turtle', 'Goose', 'Snail', 'Hedgehog', 'Koala', 'Tortoise', 'Brown bear', 'Camel', 'Squirrel', 'Swan', 'Goat', 'Centipede', 'Polar bear', 'Leopard', 'Sparrow', 'Owl', 'Snake', 'Tick', 'Turkey', 'Zebra', 'Horse', 'Magpie', 'Hamster', 'Fox', 'Bull', 'Eagle', 'Goldfish', 'Harbor seal', 'Shrimp', 'Sheep', 'Seahorse', 'Ladybug', 'Butterfly', 'Fish', 'Moths and butterflies', 'Lynx', 'Jaguar', 'Crocodile', 'Duck', 'Scorpion', 'Raven', 'Frog', 'Ostrich', 'Woodpecker', 'Caterpillar', 'Monkey', 'Jellyfish', 'Parrot', 'Hippopotamus', 'Panda', 'Sea lion', 'Spider', 'Whale', 'Worm', 'Penguin', 'Shark', 'Bear', 'Raccoon', 'Giraffe', 'Sea turtle', 'Red panda', 'Mouse', 'Deer', 'Cheetah']"
   ]
  },
  {
   "cell_type": "code",
   "execution_count": 5,
   "id": "c89d48b4",
   "metadata": {
    "execution": {
     "iopub.execute_input": "2023-04-22T12:46:21.202102Z",
     "iopub.status.busy": "2023-04-22T12:46:21.201805Z",
     "iopub.status.idle": "2023-04-22T12:46:24.438357Z",
     "shell.execute_reply": "2023-04-22T12:46:24.437268Z"
    },
    "papermill": {
     "duration": 3.243768,
     "end_time": "2023-04-22T12:46:24.440996",
     "exception": false,
     "start_time": "2023-04-22T12:46:21.197228",
     "status": "completed"
    },
    "tags": []
   },
   "outputs": [
    {
     "name": "stdout",
     "output_type": "stream",
     "text": [
      "File not found: /kaggle/input/animals-detection-images-dataset/train/Cheetah/Label\n"
     ]
    }
   ],
   "source": [
    "train_data = []\n",
    "for class_name in class_names:\n",
    "    class_path = os.path.join(data_path, 'train', class_name)\n",
    "for img_name in os.listdir(class_path):\n",
    "        img_path = os.path.join(class_path, img_name)\n",
    "        \n",
    "        # Check if the file exists and is a file\n",
    "        if os.path.isfile(img_path):\n",
    "            img = cv2.imread(img_path)\n",
    "            \n",
    "            # Check if the image was read successfully\n",
    "            if img is not None:\n",
    "                img = cv2.resize(img, (224, 224))\n",
    "                train_data.append((img, class_names.index(class_name)))\n",
    "            else:\n",
    "                print(f\"Unable to read image: {img_path}\")\n",
    "        else:\n",
    "            print(f\"File not found: {img_path}\")\n"
   ]
  },
  {
   "cell_type": "code",
   "execution_count": 6,
   "id": "281222d3",
   "metadata": {
    "execution": {
     "iopub.execute_input": "2023-04-22T12:46:24.450002Z",
     "iopub.status.busy": "2023-04-22T12:46:24.449015Z",
     "iopub.status.idle": "2023-04-22T12:46:24.455528Z",
     "shell.execute_reply": "2023-04-22T12:46:24.454595Z"
    },
    "papermill": {
     "duration": 0.013164,
     "end_time": "2023-04-22T12:46:24.457782",
     "exception": false,
     "start_time": "2023-04-22T12:46:24.444618",
     "status": "completed"
    },
    "tags": []
   },
   "outputs": [],
   "source": [
    "np.random.shuffle(train_data)"
   ]
  },
  {
   "cell_type": "code",
   "execution_count": 7,
   "id": "89631a60",
   "metadata": {
    "execution": {
     "iopub.execute_input": "2023-04-22T12:46:24.465489Z",
     "iopub.status.busy": "2023-04-22T12:46:24.465184Z",
     "iopub.status.idle": "2023-04-22T12:46:25.409587Z",
     "shell.execute_reply": "2023-04-22T12:46:25.408440Z"
    },
    "papermill": {
     "duration": 0.951293,
     "end_time": "2023-04-22T12:46:25.412253",
     "exception": false,
     "start_time": "2023-04-22T12:46:24.460960",
     "status": "completed"
    },
    "tags": []
   },
   "outputs": [
    {
     "name": "stdout",
     "output_type": "stream",
     "text": [
      "File not found: /kaggle/input/animals-detection-images-dataset/test/Cheetah/Label\n"
     ]
    }
   ],
   "source": [
    "test_data = []\n",
    "class_path = os.path.join(data_path, 'test', class_name)\n",
    "for img_name in os.listdir(class_path):\n",
    "        img_path = os.path.join(class_path, img_name)\n",
    "        \n",
    "        # Check if the file exists and is a file\n",
    "        if os.path.isfile(img_path):\n",
    "            img = cv2.imread(img_path)\n",
    "            \n",
    "            # Check if the image was read successfully\n",
    "            if img is not None:\n",
    "                img = cv2.resize(img, (224, 224))\n",
    "                test_data.append((img, class_names.index(class_name)))\n",
    "            else:\n",
    "                print(f\"Unable to read image: {img_path}\")\n",
    "        else:\n",
    "            print(f\"File not found: {img_path}\")"
   ]
  },
  {
   "cell_type": "code",
   "execution_count": 8,
   "id": "dde46474",
   "metadata": {
    "execution": {
     "iopub.execute_input": "2023-04-22T12:46:25.420553Z",
     "iopub.status.busy": "2023-04-22T12:46:25.420220Z",
     "iopub.status.idle": "2023-04-22T12:46:25.424917Z",
     "shell.execute_reply": "2023-04-22T12:46:25.423849Z"
    },
    "papermill": {
     "duration": 0.011424,
     "end_time": "2023-04-22T12:46:25.427210",
     "exception": false,
     "start_time": "2023-04-22T12:46:25.415786",
     "status": "completed"
    },
    "tags": []
   },
   "outputs": [],
   "source": [
    "np.random.shuffle(test_data)"
   ]
  },
  {
   "cell_type": "code",
   "execution_count": 9,
   "id": "589eb07f",
   "metadata": {
    "execution": {
     "iopub.execute_input": "2023-04-22T12:46:25.435115Z",
     "iopub.status.busy": "2023-04-22T12:46:25.434839Z",
     "iopub.status.idle": "2023-04-22T12:46:25.451538Z",
     "shell.execute_reply": "2023-04-22T12:46:25.450596Z"
    },
    "papermill": {
     "duration": 0.023092,
     "end_time": "2023-04-22T12:46:25.453749",
     "exception": false,
     "start_time": "2023-04-22T12:46:25.430657",
     "status": "completed"
    },
    "tags": []
   },
   "outputs": [],
   "source": [
    "train_images = np.array([i[0] for i in train_data]).reshape(-1, 224, 224, 3)\n",
    "train_labels = np.array([i[1] for i in train_data])\n",
    "test_images = np.array([i[0] for i in test_data]).reshape(-1, 224, 224, 3)\n",
    "test_labels = np.array([i[1] for i in test_data])"
   ]
  },
  {
   "cell_type": "code",
   "execution_count": 10,
   "id": "6346dbd0",
   "metadata": {
    "execution": {
     "iopub.execute_input": "2023-04-22T12:46:25.461559Z",
     "iopub.status.busy": "2023-04-22T12:46:25.461271Z",
     "iopub.status.idle": "2023-04-22T12:46:29.410293Z",
     "shell.execute_reply": "2023-04-22T12:46:29.409184Z"
    },
    "papermill": {
     "duration": 3.955845,
     "end_time": "2023-04-22T12:46:29.412914",
     "exception": false,
     "start_time": "2023-04-22T12:46:25.457069",
     "status": "completed"
    },
    "tags": []
   },
   "outputs": [],
   "source": [
    "model = tf.keras.models.Sequential([\n",
    "    tf.keras.layers.Conv2D(32, (3,3), activation='relu', input_shape=(224, 224, 3)),\n",
    "    tf.keras.layers.MaxPooling2D((2,2)),\n",
    "    tf.keras.layers.Conv2D(64, (3,3), activation='relu'),\n",
    "    tf.keras.layers.MaxPooling2D((2,2)),\n",
    "    tf.keras.layers.Conv2D(64, (3,3), activation='relu'),\n",
    "    tf.keras.layers.Flatten(),\n",
    "    tf.keras.layers.Dense(64, activation='relu'),\n",
    "    tf.keras.layers.Dense(len(class_names), activation='softmax')\n",
    "])"
   ]
  },
  {
   "cell_type": "code",
   "execution_count": 11,
   "id": "116c4fb9",
   "metadata": {
    "execution": {
     "iopub.execute_input": "2023-04-22T12:46:29.421536Z",
     "iopub.status.busy": "2023-04-22T12:46:29.421216Z",
     "iopub.status.idle": "2023-04-22T12:46:50.303035Z",
     "shell.execute_reply": "2023-04-22T12:46:50.301912Z"
    },
    "papermill": {
     "duration": 20.88902,
     "end_time": "2023-04-22T12:46:50.305531",
     "exception": false,
     "start_time": "2023-04-22T12:46:29.416511",
     "status": "completed"
    },
    "tags": []
   },
   "outputs": [
    {
     "name": "stderr",
     "output_type": "stream",
     "text": [
      "/opt/conda/lib/python3.7/site-packages/tensorflow/python/data/ops/structured_function.py:257: UserWarning: Even though the `tf.config.experimental_run_functions_eagerly` option is set, this option does not apply to tf.data functions. To force eager execution of tf.data functions, please use `tf.data.experimental.enable_debug_mode()`.\n",
      "  \"Even though the `tf.config.experimental_run_functions_eagerly` \"\n"
     ]
    },
    {
     "name": "stdout",
     "output_type": "stream",
     "text": [
      "Epoch 1/10\n",
      "5/5 [==============================] - 9s 193ms/step - loss: 10.7646 - accuracy: 0.7576 - val_loss: 0.0000e+00 - val_accuracy: 1.0000\n",
      "Epoch 2/10\n",
      "5/5 [==============================] - 1s 109ms/step - loss: 0.0000e+00 - accuracy: 1.0000 - val_loss: 0.0000e+00 - val_accuracy: 1.0000\n",
      "Epoch 3/10\n",
      "5/5 [==============================] - 1s 106ms/step - loss: 0.0000e+00 - accuracy: 1.0000 - val_loss: 0.0000e+00 - val_accuracy: 1.0000\n",
      "Epoch 4/10\n",
      "5/5 [==============================] - 1s 104ms/step - loss: 0.0000e+00 - accuracy: 1.0000 - val_loss: 0.0000e+00 - val_accuracy: 1.0000\n",
      "Epoch 5/10\n",
      "5/5 [==============================] - 1s 103ms/step - loss: 0.0000e+00 - accuracy: 1.0000 - val_loss: 0.0000e+00 - val_accuracy: 1.0000\n",
      "Epoch 6/10\n",
      "5/5 [==============================] - 1s 103ms/step - loss: 0.0000e+00 - accuracy: 1.0000 - val_loss: 0.0000e+00 - val_accuracy: 1.0000\n",
      "Epoch 7/10\n",
      "5/5 [==============================] - 1s 103ms/step - loss: 0.0000e+00 - accuracy: 1.0000 - val_loss: 0.0000e+00 - val_accuracy: 1.0000\n",
      "Epoch 8/10\n",
      "5/5 [==============================] - 1s 103ms/step - loss: 0.0000e+00 - accuracy: 1.0000 - val_loss: 0.0000e+00 - val_accuracy: 1.0000\n",
      "Epoch 9/10\n",
      "5/5 [==============================] - 1s 126ms/step - loss: 0.0000e+00 - accuracy: 1.0000 - val_loss: 0.0000e+00 - val_accuracy: 1.0000\n",
      "Epoch 10/10\n",
      "5/5 [==============================] - 1s 105ms/step - loss: 0.0000e+00 - accuracy: 1.0000 - val_loss: 0.0000e+00 - val_accuracy: 1.0000\n"
     ]
    },
    {
     "data": {
      "text/plain": [
       "<keras.callbacks.History at 0x7beb880b3510>"
      ]
     },
     "execution_count": 11,
     "metadata": {},
     "output_type": "execute_result"
    }
   ],
   "source": [
    "import tensorflow as tf\n",
    "from tensorflow import keras\n",
    "\n",
    "tf.config.run_functions_eagerly(True)  # Enable eager mode\n",
    "\n",
    "\n",
    "model.compile(optimizer='adam', loss='sparse_categorical_crossentropy', metrics=['accuracy'])\n",
    "\n",
    "model.fit(train_images, train_labels, epochs=10, batch_size=32, validation_data=(test_images, test_labels))\n",
    " \n"
   ]
  },
  {
   "cell_type": "code",
   "execution_count": 12,
   "id": "91ff736e",
   "metadata": {
    "execution": {
     "iopub.execute_input": "2023-04-22T12:46:50.322605Z",
     "iopub.status.busy": "2023-04-22T12:46:50.321672Z",
     "iopub.status.idle": "2023-04-22T12:46:50.629997Z",
     "shell.execute_reply": "2023-04-22T12:46:50.628889Z"
    },
    "papermill": {
     "duration": 0.319935,
     "end_time": "2023-04-22T12:46:50.633201",
     "exception": false,
     "start_time": "2023-04-22T12:46:50.313266",
     "status": "completed"
    },
    "tags": []
   },
   "outputs": [],
   "source": [
    "model.save('animal_detection_model.h5')"
   ]
  }
 ],
 "metadata": {
  "kernelspec": {
   "display_name": "Python 3",
   "language": "python",
   "name": "python3"
  },
  "language_info": {
   "codemirror_mode": {
    "name": "ipython",
    "version": 3
   },
   "file_extension": ".py",
   "mimetype": "text/x-python",
   "name": "python",
   "nbconvert_exporter": "python",
   "pygments_lexer": "ipython3",
   "version": "3.7.12"
  },
  "papermill": {
   "default_parameters": {},
   "duration": 61.983129,
   "end_time": "2023-04-22T12:46:54.075093",
   "environment_variables": {},
   "exception": null,
   "input_path": "__notebook__.ipynb",
   "output_path": "__notebook__.ipynb",
   "parameters": {},
   "start_time": "2023-04-22T12:45:52.091964",
   "version": "2.4.0"
  }
 },
 "nbformat": 4,
 "nbformat_minor": 5
}
